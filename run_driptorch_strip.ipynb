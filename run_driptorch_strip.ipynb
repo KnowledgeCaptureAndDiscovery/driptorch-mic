{
 "cells": [
  {
   "cell_type": "code",
   "execution_count": 18,
   "metadata": {},
   "outputs": [],
   "source": [
    "import driptorch as dt\n",
    "import json"
   ]
  },
  {
   "cell_type": "code",
   "execution_count": 24,
   "metadata": {},
   "outputs": [],
   "source": [
    "# Burn Unit Parameters\n",
    "burn_unit_geojson : 'CWLStringInput' = '{\"type\":\"FeatureCollection\",\"features\":[{\"type\":\"Feature\",\"properties\":{},\"geometry\":{\"type\":\"Polygon\",\"coordinates\":[[[-114.44869995117188,47.088504171925706],[-114.44470882415771,47.08745225315146],[-114.44342136383057,47.09066638416644],[-114.44496631622313,47.09236102969754],[-114.44633960723877,47.0924194647886],[-114.45281982421875,47.089205439567344],[-114.45153236389159,47.08815353464254],[-114.44869995117188,47.088504171925706]]]}}]}'\n",
    "burn_unit_firing_direction : 'CWLFloatInput' = 217\n",
    "burn_unit_control_line_buffer : 'CWLFloatInput' = 10\n",
    "burn_unit_downwind_buffer : 'CWLFloatInput' = 20\n",
    "\n",
    "# Igniter Parameters\n",
    "# Dash length = 0 & Gap length > 0 : Point igniter. \n",
    "# Gap length = 0 & Dash length = 0: Continuous igniter\n",
    "number_of_igniters : 'CWLIntInput' = 4\n",
    "igniters_same_velocity : 'CWLBooleanInput' = True\n",
    "igniter_velocities : 'CWLStringInput' = '[1, 1, 1, 1]'\n",
    "igniter_line_dash_lengths : 'CWLStringInput' = '[10, 10, 10, 10]' \n",
    "igniter_line_gap_lengths : 'CWLStringInput' = '[50, 10, 50, 10]' \n",
    "\n",
    "# Firing Parameters\n",
    "firing_spacing : 'CWLFloatInput' = 100 # Staggering distance in meters between igniters within a heat\n",
    "firing_depth : 'CWLFloatInput' = 100 # Horizontal distance in meters between igniters and heats\n",
    "firing_heat_depth : 'CWLFloatInput' = None # Depth in meters between igniter heats. If None, heat_depth is equal to igniter depth\n",
    "firing_heat_delay : 'CWLFloatInput' = None # Delay in seconds between igniter heats.\n",
    "firing_side : 'CWLStringInput' = 'right' # Side of the wind vector to start the ignition. 'right' or 'left'\n",
    "\n",
    "# Output Parameters\n",
    "output_time_offset : 'CWLIntInput' = 25 # Time offset to add to the ignition times. Defaults to 0\n",
    "output_resolution : 'CWLIntInput' = 1 # Horizontal resolution of QUIC-fire domain (in meters)\n",
    "output_epsg : 'CWLStringInput' = None # EPSG code for the destination projection\n",
    "output_file : 'CWLFilePathOutput' = \"./qf_ignition.dat\""
   ]
  },
  {
   "cell_type": "code",
   "execution_count": 20,
   "metadata": {},
   "outputs": [],
   "source": [
    "# BURN UNIT\n",
    "\n",
    "if not burn_unit_geojson:\n",
    "    raise ValueError('No geojson provided for burn unit')\n",
    "burn_unit_geojson = json.loads(burn_unit_geojson)\n",
    "\n",
    "# Create a burn unit from a GeoJSON feature collection with a wind direction\n",
    "if burn_unit_firing_direction:\n",
    "    burn_unit = dt.BurnUnit.from_json(burn_unit_geojson, firing_direction=burn_unit_firing_direction)\n",
    "else:\n",
    "    burn_unit = dt.BurnUnit.from_json(burn_unit_geojson)\n",
    "\n",
    "# Add Buffer Areas\n",
    "if burn_unit_control_line_buffer:\n",
    "    burn_unit_firing_area = burn_unit.buffer_control_line(burn_unit_control_line_buffer)\n",
    "if burn_unit_downwind_buffer:\n",
    "    burn_unit_firing_area = burn_unit_firing_area.buffer_downwind(burn_unit_downwind_buffer)\n",
    "\n",
    "fuel_removal_area = burn_unit.difference(burn_unit_firing_area)"
   ]
  },
  {
   "cell_type": "code",
   "execution_count": 21,
   "metadata": {},
   "outputs": [],
   "source": [
    "# PERSONNEL (IGNITERS)\n",
    "igniter_velocities = json.loads(igniter_velocities)\n",
    "assert(len(igniter_velocities) == number_of_igniters)\n",
    "\n",
    "igniter_line_dash_lengths = json.loads(igniter_line_dash_lengths)\n",
    "assert(len(igniter_line_dash_lengths) == number_of_igniters)\n",
    "\n",
    "igniter_line_gap_lengths = json.loads(igniter_line_gap_lengths)\n",
    "assert(len(igniter_line_gap_lengths) == number_of_igniters)\n",
    "\n",
    "ignition_crew = dt.IgnitionCrew(same_velocity=igniters_same_velocity)\n",
    "for i in range(0, number_of_igniters):\n",
    "    igniter_velocity = igniter_velocities[i]\n",
    "    igniter_line_dash_length = igniter_line_dash_lengths[i]\n",
    "    igniter_line_gap_length = igniter_line_gap_lengths[i]\n",
    "    igniter =  dt.Igniter(igniter_velocity, dash_length=igniter_line_dash_length, gap_length=igniter_line_gap_length)\n",
    "    ignition_crew.add_igniter(igniter)\n",
    "\n",
    "# TODO:\n",
    "# Do we need to store the ignition crew details as outputs ?"
   ]
  },
  {
   "cell_type": "code",
   "execution_count": 22,
   "metadata": {},
   "outputs": [],
   "source": [
    "firing = dt.firing.Strip(burn_unit_firing_area, ignition_crew)\n",
    "firing_pattern = firing.generate_pattern(\n",
    "    spacing=firing_spacing, \n",
    "    depth=firing_depth,\n",
    "    heat_depth=firing_heat_depth,\n",
    "    heat_delay=firing_heat_delay,\n",
    "    side=firing_side\n",
    ")\n"
   ]
  },
  {
   "cell_type": "code",
   "execution_count": 23,
   "metadata": {},
   "outputs": [],
   "source": [
    "# OUTPUTS\n",
    "if not firing_pattern:\n",
    "    raise ValueError('No firing pattern generated')\n",
    "\n",
    "# Write the pattern to a QUIC-Fire ignition file\n",
    "qf_ignition_file = firing_pattern.to_quicfire(\n",
    "    burn_unit, \n",
    "    filename=output_file, \n",
    "    time_offset=output_time_offset,\n",
    "    resolution=output_resolution,    \n",
    "    dst_epsg=output_epsg\n",
    ")"
   ]
  }
 ],
 "metadata": {
  "kernelspec": {
   "display_name": "Python 3.10.6 ('dripenv')",
   "language": "python",
   "name": "python3"
  },
  "language_info": {
   "codemirror_mode": {
    "name": "ipython",
    "version": 3
   },
   "file_extension": ".py",
   "mimetype": "text/x-python",
   "name": "python",
   "nbconvert_exporter": "python",
   "pygments_lexer": "ipython3",
   "version": "3.10.6"
  },
  "vscode": {
   "interpreter": {
    "hash": "2da3f89f0bbdbbd9e109346681d8cfaf7a5a485bdc5c2f1bcfa57ae9aaab52ee"
   }
  }
 },
 "nbformat": 4,
 "nbformat_minor": 4
}
