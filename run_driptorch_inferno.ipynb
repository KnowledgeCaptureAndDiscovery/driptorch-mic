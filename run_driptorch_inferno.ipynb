{
 "cells": [
  {
   "cell_type": "code",
   "execution_count": 12,
   "metadata": {},
   "outputs": [],
   "source": [
    "import driptorch as dt\n",
    "import json"
   ]
  },
  {
   "cell_type": "code",
   "execution_count": 13,
   "metadata": {},
   "outputs": [],
   "source": [
    "# Burn Unit Parameters\n",
    "burn_unit_geojson : 'CWLStringInput' = '{\"type\":\"FeatureCollection\",\"features\":[{\"type\":\"Feature\",\"properties\":{},\"geometry\":{\"type\":\"Polygon\",\"coordinates\":[[[-114.44869995117188,47.088504171925706],[-114.44470882415771,47.08745225315146],[-114.44342136383057,47.09066638416644],[-114.44496631622313,47.09236102969754],[-114.44633960723877,47.0924194647886],[-114.45281982421875,47.089205439567344],[-114.45153236389159,47.08815353464254],[-114.44869995117188,47.088504171925706]]]}}]}'\n",
    "burn_unit_firing_direction : 'CWLFloatInput' = 217\n",
    "burn_unit_control_line_buffer : 'CWLFloatInput' = 10\n",
    "burn_unit_downwind_buffer : 'CWLFloatInput' = 20\n",
    "\n",
    "# Output Parameters\n",
    "output_time_offset : 'CWLIntInput' = 25 # Time offset to add to the ignition times. Defaults to 0\n",
    "output_resolution : 'CWLIntInput' = 1 # Horizontal resolution of QUIC-fire domain (in meters)\n",
    "output_epsg : 'CWLStringInput' = None # EPSG code for the destination projection\n",
    "output_file : 'CWLFilePathOutput' = \"./qf_ignition.dat\""
   ]
  },
  {
   "cell_type": "code",
   "execution_count": 14,
   "metadata": {},
   "outputs": [],
   "source": [
    "# BURN UNIT\n",
    "if not burn_unit_geojson:\n",
    "    raise ValueError('No geojson provided for burn unit')\n",
    "burn_unit_geojson = json.loads(burn_unit_geojson)\n",
    "\n",
    "# Create a burn unit from a GeoJSON feature collection with a wind direction\n",
    "burn_unit = dt.BurnUnit.from_json(burn_unit_geojson, firing_direction=burn_unit_firing_direction)\n",
    "\n",
    "# Add Buffer Areas\n",
    "if burn_unit_control_line_buffer:\n",
    "    burn_unit_firing_area = burn_unit.buffer_control_line(burn_unit_control_line_buffer)\n",
    "if burn_unit_downwind_buffer:\n",
    "    burn_unit_firing_area = burn_unit_firing_area.buffer_downwind(burn_unit_downwind_buffer)\n",
    "\n",
    "fuel_removal_area = burn_unit.difference(burn_unit_firing_area)"
   ]
  },
  {
   "cell_type": "code",
   "execution_count": 15,
   "metadata": {},
   "outputs": [],
   "source": [
    "# FIRING TECHNIQUES\n",
    "firing = dt.firing.Inferno(burn_unit_firing_area)\n",
    "firing_pattern = firing.generate_pattern()\n"
   ]
  },
  {
   "cell_type": "code",
   "execution_count": 16,
   "metadata": {},
   "outputs": [],
   "source": [
    "# OUTPUTS\n",
    "if not firing_pattern:\n",
    "    raise ValueError('No firing pattern generated')\n",
    "\n",
    "# Write the pattern to a QUIC-Fire ignition file\n",
    "qf_ignition_file = firing_pattern.to_quicfire(\n",
    "    burn_unit, \n",
    "    filename=output_file, \n",
    "    time_offset=output_time_offset,\n",
    "    resolution=output_resolution,    \n",
    "    dst_epsg=output_epsg\n",
    ")"
   ]
  }
 ],
 "metadata": {
  "kernelspec": {
   "display_name": "Python 3.10.6 ('dripenv')",
   "language": "python",
   "name": "python3"
  },
  "language_info": {
   "codemirror_mode": {
    "name": "ipython",
    "version": 3
   },
   "file_extension": ".py",
   "mimetype": "text/x-python",
   "name": "python",
   "nbconvert_exporter": "python",
   "pygments_lexer": "ipython3",
   "version": "3.10.6"
  },
  "vscode": {
   "interpreter": {
    "hash": "2da3f89f0bbdbbd9e109346681d8cfaf7a5a485bdc5c2f1bcfa57ae9aaab52ee"
   }
  }
 },
 "nbformat": 4,
 "nbformat_minor": 4
}
